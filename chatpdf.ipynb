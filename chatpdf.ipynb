{
 "cells": [
  {
   "cell_type": "code",
   "execution_count": 2,
   "metadata": {},
   "outputs": [],
   "source": [
    "import re\n",
    "import time\n",
    "from io import BytesIO\n",
    "from typing import Any, Dict, List\n",
    "\n",
    "import openai\n",
    "import streamlit as st\n",
    "from pypdf import PdfReader"
   ]
  },
  {
   "cell_type": "code",
   "execution_count": 3,
   "metadata": {},
   "outputs": [],
   "source": [
    "from langchain import LLMChain, OpenAI\n",
    "from langchain.agents import AgentExecutor, Tool, ZeroShotAgent\n",
    "from langchain.chains import RetrievalQA\n",
    "from langchain.chains.question_answering import load_qa_chain\n",
    "from langchain.docstore.document import Document\n",
    "from langchain.document_loaders import PyPDFLoader\n",
    "from langchain.embeddings.openai import OpenAIEmbeddings\n",
    "from langchain.llms import OpenAI\n",
    "from langchain.memory import ConversationBufferMemory\n",
    "from langchain.text_splitter import RecursiveCharacterTextSplitter\n",
    "from langchain.vectorstores import VectorStore\n",
    "from langchain.vectorstores.faiss import FAISS"
   ]
  },
  {
   "attachments": {},
   "cell_type": "markdown",
   "metadata": {},
   "source": [
    "#### Local helper functions"
   ]
  },
  {
   "cell_type": "code",
   "execution_count": 4,
   "metadata": {},
   "outputs": [
    {
     "name": "stderr",
     "output_type": "stream",
     "text": [
      "2023-04-18 17:48:19.321 WARNING streamlit.runtime.caching.cache_data_api: No runtime found, using MemoryCacheStorageManager\n"
     ]
    }
   ],
   "source": [
    "@st.cache_data\n",
    "def parse_pdf(file: BytesIO) -> List[str]:\n",
    "    \"\"\" extract text from a pdf file object\n",
    "        clean, remove specific symbols such as hyphenated word, fixing newlines\n",
    "        and return a list of string for a page of PDF\n",
    "    \"\"\"\n",
    "    pdf_reader = PdfReader(file)\n",
    "\n",
    "    output_str = []\n",
    "\n",
    "    # extract text from each page in the pdf file\n",
    "    for page in pdf_reader.pages():\n",
    "        txt = page.extract_text()\n",
    "        txt = re.sub(r\"(\\w+)-\\n(\\w+)\", r\"\\1\\2\", txt)           # Merge hyphenated words\n",
    "        txt = re.sub(r\"(?<!\\n\\s)\\n(?!\\s\\n)\", \" \", txt.strip()) # Fix newlines in the middles of sentences\n",
    "        txt = re.sub(r\"\\n\\s*\\n\", \"\\n\\n\", txt)                  # Remove multiple newlines\n",
    "        output_str.append(txt)\n",
    "\n",
    "    return output_str"
   ]
  },
  {
   "cell_type": "code",
   "execution_count": null,
   "metadata": {},
   "outputs": [],
   "source": []
  }
 ],
 "metadata": {
  "kernelspec": {
   "display_name": "langchain",
   "language": "python",
   "name": "python3"
  },
  "language_info": {
   "codemirror_mode": {
    "name": "ipython",
    "version": 3
   },
   "file_extension": ".py",
   "mimetype": "text/x-python",
   "name": "python",
   "nbconvert_exporter": "python",
   "pygments_lexer": "ipython3",
   "version": "3.9.16"
  },
  "orig_nbformat": 4
 },
 "nbformat": 4,
 "nbformat_minor": 2
}
