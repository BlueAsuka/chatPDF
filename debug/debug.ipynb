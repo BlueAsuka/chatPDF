{
 "cells": [
  {
   "cell_type": "code",
   "execution_count": 1,
   "metadata": {},
   "outputs": [],
   "source": [
    "from pypdf import PdfReader"
   ]
  },
  {
   "cell_type": "code",
   "execution_count": 7,
   "metadata": {},
   "outputs": [],
   "source": [
    "def extract_metadata(pdf_file):\n",
    "    try:\n",
    "        pdf_reader = PdfReader(pdf_file)\n",
    "    except Exception as exc:\n",
    "        text = print(\"FileNotFoundError\")\n",
    "    \n",
    "    meta = pdf_reader.metadata\n",
    "\n",
    "    txt = f\"\"\"\n",
    "    title  =  {meta.title}\n",
    "    Author =  {meta.author}\n",
    "    Date   =  {meta.creation_date}\n",
    "    Creater = {meta.creator}\n",
    "    Producer = {meta.producer}\n",
    "    Number of Pages = {len(pdf_reader.pages)}\n",
    "    \"\"\"\n",
    "\n",
    "    print(txt)\n",
    "\n",
    "    return pdf_reader"
   ]
  },
  {
   "cell_type": "code",
   "execution_count": 8,
   "metadata": {},
   "outputs": [
    {
     "name": "stdout",
     "output_type": "stream",
     "text": [
      "\n",
      "    title  =  None\n",
      "    Author =  D'Amico, Davide\n",
      "    Date   =  2021-10-11 15:38:05+02:00\n",
      "    Creater = Microsoft® Word for Microsoft 365\n",
      "    Producer = Microsoft® Word for Microsoft 365\n",
      "    Number of Pages = 8\n",
      "    \n"
     ]
    }
   ],
   "source": [
    "reader = extract_metadata('../doc/TLO_for_digital_twin.pdf')"
   ]
  },
  {
   "cell_type": "code",
   "execution_count": 19,
   "metadata": {},
   "outputs": [],
   "source": [
    "page = reader.pages[0].extract_text()"
   ]
  },
  {
   "cell_type": "code",
   "execution_count": 20,
   "metadata": {},
   "outputs": [
    {
     "name": "stdout",
     "output_type": "stream",
     "text": [
      "10th International Conference on Through -life Engineering Service  \n",
      "16-17 November 202 1, University of Twente, The Netherlands\n",
      "Peer-review under responsibility of the Programme Chair of the 10th International Conference on \n",
      "Through -life Engineering Services.  \n",
      "Is a top  level ontology  based digital twin the solution to human -\n",
      "machine interoperability?  \n",
      "Rosario Davide D’Amicoa*, Sri Addepallia, John Ahmet Erkoyuncua \n",
      "aCentre for D igital Engineering and Manufacturing (CDEM), School of Aerospace, Transport and Manufacturing, Cranfield University, \n",
      "Cranfield , MK43 0AL , United Kingdom  \n",
      "*Corresponding author : Rosario Davide D’Amico; E-mail address : r.damico@cranfield.ac.uk\n",
      "Abstract  \n",
      "Over the last decade, life cycle management has made leaps and bounds not just enhancing but also creating newer interactivity \n",
      "with the modelling world. A digital twin (DT) monitors the condition of the mirrored entity through  life, providing a holistic \n",
      "overview of both its functionality and operability. Whilst DTs are gaining interest, the current challenge in their efficient \n",
      "utilisation is the interoperability between those different DTs. Today, DTs are being created for domain -specific functionalities \n",
      "(closed architectures), often using  proprietary solutions, limiting their interoperability. This paper aims to present a high -level \n",
      "DT framework based on a standard top -level ontology called the Basic Formal Ontology (BFO) as a solution to the integration \n",
      "of twins. BFO is a well -established  top-level ontology in the biomedical sector, as it is the core of the Open Biological \n",
      "Ontologies (OBO) Foundry. This paper contains a review of the state -of-the-art DTs based on top -level ontologies and \n",
      "highlights the value of implementing this framework,  especially in the maintenance phase. The proposed open framework \n",
      "enables and improves the interoperability of DTs, creating the fundamental infrastructure where DTs can work together in a \n",
      "federation of twins. This research is an attempt to identify the ap plicability of this fundamental, interdisciplinary, cross -sectoral \n",
      "linkage for digitally enhanced eMaintenance platforms and their effective deployment. The paper thus presents an overview \n",
      "of how a typical BFO based DT would work in the context of a networ k of twins that targets human -in-the-loop (HITL) and \n",
      "their interoperability establishing a future towards the next industrial revolution: Industry 5.0.  \n",
      "Keywords:  Digital twin; ontology ; BFO ; network of twins ; eMaintenance ; industry 5.0 ; industrial ontology foundry (IOF) ; semantic  \n",
      "1.Introduction\n",
      "Digital twin (DT), a dynamic di gital \n",
      "representation of a real entity, is a way to reach the \n",
      "dynamic optimi sation of complex engineering \n",
      "assets. The optimisation is achievable through the \n",
      "interaction between the physical asset and the high-\n",
      "fidelity twin model , which support s the asset \n",
      "throughout the continuous evolution  over time [1]. \n",
      "Research in DT is gradually advancing  from the high \n",
      "level into the singular aspect such as designing, \n",
      "processing, and maintenance.  Nonetheless, the \n",
      "development of DTs is still in the early stage , lacking \n",
      "guidance on modelling through DTs [2]. \n",
      "Complex engineering assets are those assets on \n",
      "which the maintenance phase is the longest -lasting \n",
      "and resourc e-consuming  phase of the lifecycle . One \n",
      "of the main issue s concerning complex engineering \n",
      "assets  is the interoperability of tools and stakeholder s \n",
      "operating around those assets. Developing DTs \n",
      "through the ontology  approach enhance s the \n",
      "flexibility and ex tensibility of those systems [3]. \n",
      "It is not just an issue in ind ustries, but also in \n",
      "smart city management as highlighted by Petrova -\n",
      "Antonova et al. [4]. They pointed out how the data is \n",
      "distributed across different organisations and \n",
      "systems without common semantics and a \n",
      "technology base  [4]. With this condition , there is poor predictability and  limited interoperability , \n",
      "mostly when there is the need to link heterogeneous \n",
      "data. In urban management, like in industry, there is \n",
      "the need for a common data semantic that all the \n",
      "stakeholders agree on  [4]. A possible solution to \n",
      "address this semantic interoperability issue lays in an \n",
      "ontolog y approach . \n",
      "The ontology is a collection of terms , relational \n",
      "expressions, and definitions, which allow s a high -\n",
      "fidelity description of the asset or process of interest \n",
      "and its operation  [5]. Ontology is described by a \n",
      "language called OWL (Web Ontology Language, \n",
      "based on RDF (Resource Description Framework ) \n",
      "[6]. To facilitate the reading of ontologies, multiple  \n",
      "tools are available that translate the coding from  \n",
      "OWL to a graphical representation  that is  easy to \n",
      "read and to work on. Examples of these are  Protégé  \n",
      "(popular) , Ontolingua, WebOnto, WebODE, \n",
      "OntoEdit, etc . [6]. \n",
      "In general , an ontology is used to provide a \n",
      "standard for information exchange between different \n",
      "systems, and examples of this  combined with DTs \n",
      "are described in the following section.  Current \n",
      "research  suggest s that the ontology model can be \n",
      "refined and applied in the industry through a \n",
      "standardisation  process of this methodology . Further \n",
      "impact on the lifecycle management can be provided  \n",
      "by interconnecting the existing industry models, \n",
      "Electronic copy available at: https://ssrn.com/abstract=3945058\n"
     ]
    }
   ],
   "source": [
    "print(page)"
   ]
  },
  {
   "cell_type": "code",
   "execution_count": null,
   "metadata": {},
   "outputs": [],
   "source": []
  }
 ],
 "metadata": {
  "kernelspec": {
   "display_name": "langchain",
   "language": "python",
   "name": "python3"
  },
  "language_info": {
   "codemirror_mode": {
    "name": "ipython",
    "version": 3
   },
   "file_extension": ".py",
   "mimetype": "text/x-python",
   "name": "python",
   "nbconvert_exporter": "python",
   "pygments_lexer": "ipython3",
   "version": "3.10.10"
  },
  "orig_nbformat": 4,
  "vscode": {
   "interpreter": {
    "hash": "832d80f41fab5c342ee52ffcd625a7b1822b9fa09ef51c4403e8edecd95eb175"
   }
  }
 },
 "nbformat": 4,
 "nbformat_minor": 2
}
